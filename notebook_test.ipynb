{
 "cells": [
  {
   "cell_type": "markdown",
   "metadata": {},
   "source": [
    "# Contact Invariant Optimization\n",
    "\n",
    "This notebook gives an overview of Contact Invariant Optimization by Mordatch et al.(here: <https://homes.cs.washington.edu/~todorov/papers/MordatchSCA12.pdf>). Specifically the implementation involving manipulation.\n",
    "\n",
    "Solving for manipulation trajectories involving contact is a notoriously difficult optimization problem due to discontinuities introduced by the hybrid space. CIO attempts to solve this issue by smoothing the transitions between contact dynamics and free space dynamics.\n",
    "\n",
    "Given a problem formulation consisting of desired constraints on the resulting motion, CIO attempts to solve for the necessary places to make contact, the forces to apply at these contact points, and the trajectory of the manipulated object and fingers all with random initialization of the decision variables. The paper describes all of the constraints used in the final optimization (L-BFGS). Here is a video of the kinds of manipulation plans CIO claims to be able to find."
   ]
  },
  {
   "cell_type": "code",
   "execution_count": 3,
   "metadata": {},
   "outputs": [
    {
     "data": {
      "text/html": [
       "\n",
       "        <iframe\n",
       "            width=\"400\"\n",
       "            height=\"300\"\n",
       "            src=\"https://www.youtube.com/embed/Gzt2UoxYfAQ\"\n",
       "            frameborder=\"0\"\n",
       "            allowfullscreen\n",
       "        ></iframe>\n",
       "        "
      ],
      "text/plain": [
       "<IPython.lib.display.YouTubeVideo at 0x11b279cc0>"
      ]
     },
     "execution_count": 3,
     "metadata": {},
     "output_type": "execute_result"
    }
   ],
   "source": [
    "from IPython.lib.display import YouTubeVideo\n",
    "YouTubeVideo('Gzt2UoxYfAQ')"
   ]
  },
  {
   "cell_type": "markdown",
   "metadata": {},
   "source": [
    "Today I will given an overview of the method and an API I've developed for using CIO (spoiler alert: it doesn't work). Then I will give an a example and we can all play around with it.\n",
    "\n",
    "# Method and Implementation\n",
    "\n",
    "My implementation makes some similifications from the method discussed in the paper. Given an initial state $s_0$ and a goal, CIO attempts to solve for the state trajectory $s(t)$ for t $\\in [0,T]$.\n",
    "\n",
    "## State\n",
    "\n",
    "The state of the hand is represented as the pose and twist (linear and angular velocity) of two grippers, $s_H = [x_{G1}, \\dot{x}_{G1}, x_{G1}, \\dot{x}_{G1}]$. \n",
    "\n",
    "There is a single manipulated object with $N_{contacts}=3$ potential contact points: 1 from the ground and 2 from the grippers.\n",
    "\n",
    "The state of the manipulated object is the pose and twist of the object, $[x_O, \\dot{x}_O]$. For each contact, $j \\in \\{1,...,N_{contacts}\\}$ the state also includes the force direciton of the contact, $f_j$, the origin point for the contact in the object's local frame, $r^O_j$, and an auxiliary variable, $c_j$, which specifies if a contact is active. $c \\in [0,1]$ is the only bound decision variable. $c=1$ indicates a contact, and $c=0$ indicates no contact. The fact that it is a *continuous* variable is the key to CIO and finding solutions.\n",
    "\n",
    "The entire system state is therefore:\n",
    "$ s = [x_{G1}, \\dot{x}_{G1}, x_{G1}, \\dot{x}_{G1}, x_O, \\dot{x}_O, f_0, r^O_0, c_0, f_1, r^O_1, c_1, f_2, r^O_2, c_2]$\n",
    "\n",
    "CIO aims to solve for the entire state for $N_{keyframes}$ of the task. Different interpolation methods are used to calculate the state, $s(t)$ for any $t \\in [0,T]$ from the keyframes. The poses and twists use cubic spline interpolation, the forces and distances use linear interpolation, and the contact variables use constant interpolation making them piece-wise constant. Therefore the entire system state which CIO aims to solve is $S= [s_k} for k \\in \\{0,...,N_{keyframes}}$.\n",
    "\n",
    "![CIO State](state.png)\n",
    "\n",
    "First we initialize the list of objects in the world which can be of type Line, Circle, or Rectangle. We then define the initial state. Each object is defined as follows:\n",
    "\n",
    "Object(2Dpos, angle, twist, actuated, pose_index, contact_index, step_size)\n",
    "2dpos (list of floats length 2]\n",
    "angle float in rad\n",
    "twist list of 3 floats\n",
    "actuated True is object can exert force\n",
    "pose_index int\n",
    "contact_index int\n",
    "step_size float (for collision checking)"
   ]
  },
  {
   "cell_type": "code",
   "execution_count": 1,
   "metadata": {},
   "outputs": [],
   "source": [
    "import numpy as np\n",
    "from world import Line, Rectangle, Circle\n",
    "\n",
    "# ground: origin is left\n",
    "ground = Line((0.0, 0.0), 0.0, 30.0, contact_index = 2)\n",
    "\n",
    "# circle: origin is center of the circle\n",
    "rad = 5.0\n",
    "box = Circle(pose=(5.0, rad), angle=0.0, radius=rad, vel = (0.0, 0.0, 0.0), pose_index = 2)\n",
    "# box: origin is left bottom of box\n",
    "#box = Rectangle((5.0, 0.0), np.pi/2, 10.0, 10.0, vel = (0.0, 0.0, 0.0), pose_index = 2)\n",
    "\n",
    "# gripper1: origin is bottom of line\n",
    "gripper1 = Line((0.0, 20.0), np.pi/2, 2.0, pose_index = 0, contact_index = 0,\\\n",
    "                actuated = True)\n",
    "\n",
    "# gripper2: origin is bottom of line\n",
    "gripper2 = Line((10.0, 20.0), np.pi/2, 2.0, pose_index = 1, contact_index = 1,\\\n",
    "                actuated = True)\n",
    "\n",
    "objects = [ground, box, gripper1, gripper2]"
   ]
  },
  {
   "cell_type": "markdown",
   "metadata": {},
   "source": [
    "There are many parameters that need to be initialized."
   ]
  },
  {
   "cell_type": "code",
   "execution_count": 2,
   "metadata": {},
   "outputs": [],
   "source": [
    "num_moveable_objects = len(objects) - 1 # don't count the ground\n",
    "from params import Params\n",
    "p = Params(num_moveable_objects)"
   ]
  },
  {
   "cell_type": "markdown",
   "metadata": {},
   "source": [
    "These objects then need to be used to construct the initial decision variables. Here you can adjust the initial contact variables f, r, and c."
   ]
  },
  {
   "cell_type": "code",
   "execution_count": 3,
   "metadata": {},
   "outputs": [],
   "source": [
    "# create the initial system state: s0\n",
    "s0 = np.zeros(p.len_s)\n",
    "\n",
    "# fill in object poses and velocities\n",
    "for object in objects:\n",
    "    if object.pose_index != None:\n",
    "        s0[6*object.pose_index:6*object.pose_index+2] = object.pose\n",
    "        s0[6*object.pose_index+2] = object.angle\n",
    "        s0[6*object.pose_index+3:6*object.pose_index+6] = object.vel\n",
    "\n",
    "# initial contact information (just in contact with the ground):\n",
    "# [fxj fyj rOxj rOyj cj for j in N]\n",
    "# j = 0 gripper 1 contact\n",
    "# j = 1 gripper 2 contact\n",
    "# j = 2 ground contact\n",
    "# rO is in object (box) frame\n",
    "con0 = [0.0, 0.0,  -5.0, 10.0, 1.0] # gripper1\n",
    "con1 = [0.0, 0.0, 5.0, 10.0, 1.0] # gripper2\n",
    "con2 = [0.0, 10.0,  0.0, -5.0, 1.0] # ground\n",
    "\n",
    "s0[18:p.len_s] = (con0 + con1 + con2)"
   ]
  },
  {
   "cell_type": "markdown",
   "metadata": {},
   "source": [
    "For now we will initialize the remaining $N_{keyframes}-1$ state decision variables to $s_0$ with some Gaussian noise."
   ]
  },
  {
   "cell_type": "code",
   "execution_count": 4,
   "metadata": {},
   "outputs": [],
   "source": [
    "from util import add_noise\n",
    "\n",
    "# initialize traj to all be the same as the starting state\n",
    "S0 = np.zeros(p.len_S)\n",
    "for k in range(p.K):\n",
    "    S0[k*p.len_s:k*p.len_s+p.len_s] = s0\n",
    "    \n",
    "add_noise(S0);"
   ]
  },
  {
   "cell_type": "markdown",
   "metadata": {},
   "source": [
    "Finally, we define the goal as the desired pose of the manipulated object."
   ]
  },
  {
   "cell_type": "code",
   "execution_count": 5,
   "metadata": {},
   "outputs": [],
   "source": [
    "goal = (\"box\", (50.0, rad, np.pi/2))"
   ]
  },
  {
   "cell_type": "markdown",
   "metadata": {},
   "source": [
    "At any point you can visualize the state (Thanks Tom!) using the following command."
   ]
  },
  {
   "cell_type": "code",
   "execution_count": 6,
   "metadata": {},
   "outputs": [
    {
     "name": "stderr",
     "output_type": "stream",
     "text": [
      "/Library/Frameworks/Python.framework/Versions/3.6/lib/python3.6/site-packages/matplotlib/figure.py:98: MatplotlibDeprecationWarning: \n",
      "Adding an axes using the same arguments as a previous axes currently reuses the earlier instance.  In a future version, a new instance will always be created and returned.  Meanwhile, this warning can be suppressed, and the future behavior ensured, by passing a unique label to each axes instance.\n",
      "  \"Adding an axes using the same arguments as a previous axes \"\n"
     ]
    }
   ],
   "source": [
    "from CIO import visualize_result\n",
    "visualize_result(S0, s0, objects, goal, p, 'initial.gif')\n",
    "open('initial.gif');"
   ]
  },
  {
   "cell_type": "markdown",
   "metadata": {},
   "source": [
    "The previous cell generates a .gif in the local directory. Play it by re-running this cell.\n",
    "\n",
    "![Initial State](initial.gif)"
   ]
  },
  {
   "cell_type": "markdown",
   "metadata": {},
   "source": [
    "The black lines represent the grippers, the red circle is the manipulated object, the blue circles are the current contacts ($r^O_j$), and the green dot is the goal. The shading of the circles represent the value of $c_j$. Black lines represent? If f_j should move them to the blue circles.\n",
    "\n",
    "\n",
    "## Objective Cost Terms\n",
    "\n",
    "The objective function for the optimization consists of several functions. I will now go into each of them.\n",
    "\n",
    "### Contact-Invariant Cose (cis)\n",
    "\n",
    "A contact $j$ is active when $c_j$ is close to 1. When this is true, the corresponding gripper must be constrained to be in contact with the object. This means that the distance between the gripper and the position of the gripper projected onto the surface of the object must be closer to 0. This objective function also constraints the derivative of this position to enfore a no slipping constraint.\n",
    "\n",
    "### Physics Violation Cost (physics)\n",
    "\n",
    "The physical constraints account for the fact that forces on the object from the contacts must balance. This term also includes a regularization on the contact forces to keep them as small as possible. It also restricts the contact forces to lie in the friction cone.\n",
    "\n",
    "### Kinematic Violation (kinematics)\n",
    "\n",
    "This limits the joint angles, the distance the fingers can extend from the hand, and all collisions between objects. In my implementation this is only collision costs as there are no fingers.\n",
    "\n",
    "### Task Cost (task)\n",
    "\n",
    "This is the constraint which defines the task goal. It simply states that we want to minimize the distance between the desired pose and the final pose at the last time step. \n",
    "\n",
    "### Smoothness (accels)\n",
    "\n",
    "This term regularized the accelerations of the object and the gripper to achieve smoother actions.\n",
    "\n",
    "## Optimization\n",
    "\n",
    "CIO runs two separate optimization phases. First, the physics and cis costs are downweighted by .1 of their original values. This allows the optimizer to find solutions without worrying to much abotu if it makes sense physically. Then in the second phase is initialized with the solution to the first, and the terms are weighted as follows.\n",
    "\n",
    "![](weights.png)\n",
    "\n",
    "Now we are ready to run CIO with the default parameters."
   ]
  },
  {
   "cell_type": "code",
   "execution_count": 8,
   "metadata": {},
   "outputs": [
    {
     "name": "stdout",
     "output_type": "stream",
     "text": [
      "Cost of initial trajectory:\n"
     ]
    },
    {
     "ename": "AttributeError",
     "evalue": "'WorldTraj' object has no attribute 'p'",
     "output_type": "error",
     "traceback": [
      "\u001b[0;31m---------------------------------------------------------------------------\u001b[0m",
      "\u001b[0;31mAttributeError\u001b[0m                            Traceback (most recent call last)",
      "\u001b[0;32m<ipython-input-8-02de7a576d35>\u001b[0m in \u001b[0;36m<module>\u001b[0;34m\u001b[0m\n\u001b[1;32m      1\u001b[0m \u001b[0;32mfrom\u001b[0m \u001b[0mCIO\u001b[0m \u001b[0;32mimport\u001b[0m \u001b[0mCIO\u001b[0m\u001b[0;34m\u001b[0m\u001b[0;34m\u001b[0m\u001b[0m\n\u001b[0;32m----> 2\u001b[0;31m \u001b[0mphase_info\u001b[0m \u001b[0;34m=\u001b[0m \u001b[0mCIO\u001b[0m\u001b[0;34m(\u001b[0m\u001b[0mgoal\u001b[0m\u001b[0;34m,\u001b[0m \u001b[0mobjects\u001b[0m\u001b[0;34m,\u001b[0m \u001b[0ms0\u001b[0m\u001b[0;34m,\u001b[0m \u001b[0mS0\u001b[0m\u001b[0;34m,\u001b[0m \u001b[0mp\u001b[0m\u001b[0;34m)\u001b[0m\u001b[0;34m\u001b[0m\u001b[0;34m\u001b[0m\u001b[0m\n\u001b[0m",
      "\u001b[0;32m~/CIO/CIO.py\u001b[0m in \u001b[0;36mCIO\u001b[0;34m(goal, objects, s0, S0, p, start_phase, single)\u001b[0m\n\u001b[1;32m    203\u001b[0m \u001b[0;34m\u001b[0m\u001b[0m\n\u001b[1;32m    204\u001b[0m     \u001b[0mprint\u001b[0m\u001b[0;34m(\u001b[0m\u001b[0;34m'Cost of initial trajectory:'\u001b[0m\u001b[0;34m)\u001b[0m\u001b[0;34m\u001b[0m\u001b[0;34m\u001b[0m\u001b[0m\n\u001b[0;32m--> 205\u001b[0;31m     \u001b[0mx\u001b[0m \u001b[0;34m=\u001b[0m \u001b[0mL\u001b[0m\u001b[0;34m(\u001b[0m\u001b[0mS0\u001b[0m\u001b[0;34m,\u001b[0m \u001b[0ms0\u001b[0m\u001b[0;34m,\u001b[0m \u001b[0mobjects\u001b[0m\u001b[0;34m,\u001b[0m \u001b[0mgoal\u001b[0m\u001b[0;34m,\u001b[0m \u001b[0mp\u001b[0m\u001b[0;34m,\u001b[0m \u001b[0;34m(\u001b[0m\u001b[0;36m1.\u001b[0m\u001b[0;34m,\u001b[0m\u001b[0;36m1.\u001b[0m\u001b[0;34m,\u001b[0m\u001b[0;36m1.\u001b[0m\u001b[0;34m)\u001b[0m\u001b[0;34m)\u001b[0m\u001b[0;34m\u001b[0m\u001b[0;34m\u001b[0m\u001b[0m\n\u001b[0m\u001b[1;32m    206\u001b[0m     \u001b[0mprint_final\u001b[0m\u001b[0;34m(\u001b[0m\u001b[0mx\u001b[0m\u001b[0;34m)\u001b[0m\u001b[0;34m\u001b[0m\u001b[0;34m\u001b[0m\u001b[0m\n\u001b[1;32m    207\u001b[0m \u001b[0;34m\u001b[0m\u001b[0m\n",
      "\u001b[0;32m~/CIO/CIO.py\u001b[0m in \u001b[0;36mL\u001b[0;34m(S, s0, objects, goal, p, phase_weights)\u001b[0m\n\u001b[1;32m    152\u001b[0m \u001b[0;34m\u001b[0m\u001b[0m\n\u001b[1;32m    153\u001b[0m     \u001b[0;31m# world traj stores current object information used to calculate e vars for L_CI\u001b[0m\u001b[0;34m\u001b[0m\u001b[0;34m\u001b[0m\u001b[0;34m\u001b[0m\u001b[0m\n\u001b[0;32m--> 154\u001b[0;31m     \u001b[0mworld_traj\u001b[0m \u001b[0;34m=\u001b[0m \u001b[0mWorldTraj\u001b[0m\u001b[0;34m(\u001b[0m\u001b[0ms0\u001b[0m\u001b[0;34m,\u001b[0m \u001b[0mS_aug\u001b[0m\u001b[0;34m,\u001b[0m \u001b[0mobjects\u001b[0m\u001b[0;34m,\u001b[0m \u001b[0mp\u001b[0m\u001b[0;34m)\u001b[0m\u001b[0;34m\u001b[0m\u001b[0;34m\u001b[0m\u001b[0m\n\u001b[0m\u001b[1;32m    155\u001b[0m     \u001b[0mtot_cost\u001b[0m \u001b[0;34m=\u001b[0m \u001b[0;36m0.0\u001b[0m\u001b[0;34m\u001b[0m\u001b[0;34m\u001b[0m\u001b[0m\n\u001b[1;32m    156\u001b[0m     \u001b[0mcis\u001b[0m\u001b[0;34m,\u001b[0m \u001b[0mkinems\u001b[0m\u001b[0;34m,\u001b[0m \u001b[0mphyss\u001b[0m\u001b[0;34m,\u001b[0m \u001b[0mconess\u001b[0m\u001b[0;34m,\u001b[0m \u001b[0mconts\u001b[0m\u001b[0;34m,\u001b[0m \u001b[0mtasks\u001b[0m\u001b[0;34m,\u001b[0m \u001b[0maccels\u001b[0m \u001b[0;34m=\u001b[0m\u001b[0;31m \u001b[0m\u001b[0;31m\\\u001b[0m\u001b[0;34m\u001b[0m\u001b[0;34m\u001b[0m\u001b[0m\n",
      "\u001b[0;32m~/CIO/world.py\u001b[0m in \u001b[0;36m__init__\u001b[0;34m(self, s0, S, objects, p)\u001b[0m\n\u001b[1;32m      8\u001b[0m         \u001b[0mself\u001b[0m\u001b[0;34m.\u001b[0m\u001b[0ms0\u001b[0m \u001b[0;34m=\u001b[0m \u001b[0ms0\u001b[0m\u001b[0;34m\u001b[0m\u001b[0;34m\u001b[0m\u001b[0m\n\u001b[1;32m      9\u001b[0m         \u001b[0mself\u001b[0m\u001b[0;34m.\u001b[0m\u001b[0mS\u001b[0m \u001b[0;34m=\u001b[0m \u001b[0mS\u001b[0m\u001b[0;34m\u001b[0m\u001b[0;34m\u001b[0m\u001b[0m\n\u001b[0;32m---> 10\u001b[0;31m         \u001b[0mself\u001b[0m\u001b[0;34m.\u001b[0m\u001b[0mobjects\u001b[0m \u001b[0;34m=\u001b[0m \u001b[0mobjects\u001b[0m\u001b[0;34m\u001b[0m\u001b[0;34m\u001b[0m\u001b[0m\n\u001b[0m\u001b[1;32m     11\u001b[0m         \u001b[0mself\u001b[0m\u001b[0;34m.\u001b[0m\u001b[0mstep\u001b[0m\u001b[0;34m(\u001b[0m\u001b[0;36m0\u001b[0m\u001b[0;34m)\u001b[0m\u001b[0;34m\u001b[0m\u001b[0;34m\u001b[0m\u001b[0m\n\u001b[1;32m     12\u001b[0m         \u001b[0mself\u001b[0m\u001b[0;34m.\u001b[0m\u001b[0mp\u001b[0m \u001b[0;34m=\u001b[0m \u001b[0mp\u001b[0m\u001b[0;34m\u001b[0m\u001b[0;34m\u001b[0m\u001b[0m\n",
      "\u001b[0;32m~/CIO/world.py\u001b[0m in \u001b[0;36mstep\u001b[0;34m(self, t)\u001b[0m\n\u001b[1;32m     18\u001b[0m     \u001b[0;32mdef\u001b[0m \u001b[0mstep\u001b[0m\u001b[0;34m(\u001b[0m\u001b[0mself\u001b[0m\u001b[0;34m,\u001b[0m \u001b[0mt\u001b[0m\u001b[0;34m)\u001b[0m\u001b[0;34m:\u001b[0m\u001b[0;34m\u001b[0m\u001b[0;34m\u001b[0m\u001b[0m\n\u001b[1;32m     19\u001b[0m         \u001b[0;32mfor\u001b[0m \u001b[0mobject\u001b[0m \u001b[0;32min\u001b[0m \u001b[0mself\u001b[0m\u001b[0;34m.\u001b[0m\u001b[0mobjects\u001b[0m\u001b[0;34m:\u001b[0m\u001b[0;34m\u001b[0m\u001b[0;34m\u001b[0m\u001b[0m\n\u001b[0;32m---> 20\u001b[0;31m             \u001b[0;32mif\u001b[0m \u001b[0mt\u001b[0m \u001b[0;34m==\u001b[0m \u001b[0;36m0\u001b[0m\u001b[0;34m:\u001b[0m\u001b[0;34m\u001b[0m\u001b[0;34m\u001b[0m\u001b[0m\n\u001b[0m\u001b[1;32m     21\u001b[0m                 \u001b[0mobject\u001b[0m\u001b[0;34m.\u001b[0m\u001b[0mstep\u001b[0m\u001b[0;34m(\u001b[0m\u001b[0mself\u001b[0m\u001b[0;34m.\u001b[0m\u001b[0ms0\u001b[0m\u001b[0;34m,\u001b[0m\u001b[0mt\u001b[0m\u001b[0;34m,\u001b[0m\u001b[0mself\u001b[0m\u001b[0;34m.\u001b[0m\u001b[0mp\u001b[0m\u001b[0;34m)\u001b[0m\u001b[0;34m\u001b[0m\u001b[0;34m\u001b[0m\u001b[0m\n\u001b[1;32m     22\u001b[0m             \u001b[0;32melse\u001b[0m\u001b[0;34m:\u001b[0m\u001b[0;34m\u001b[0m\u001b[0;34m\u001b[0m\u001b[0m\n",
      "\u001b[0;31mAttributeError\u001b[0m: 'WorldTraj' object has no attribute 'p'"
     ]
    }
   ],
   "source": [
    "from CIO import CIO\n",
    "phase_info = CIO(goal, objects, s0, S0, p)"
   ]
  },
  {
   "cell_type": "markdown",
   "metadata": {},
   "source": [
    "You can visualize the intermediate and final solutions by **restarting the kernel** and running the following cells."
   ]
  },
  {
   "cell_type": "markdown",
   "metadata": {},
   "source": [
    "### Phase 0\n",
    "![](test2.gif)"
   ]
  },
  {
   "cell_type": "markdown",
   "metadata": {},
   "source": [
    "### Phase 1\n",
    "![](phase_1.gif)"
   ]
  },
  {
   "cell_type": "markdown",
   "metadata": {},
   "source": [
    "# Parameters\n",
    "\n",
    "One the decision variables are initialized, there are about 12 other parameters that can be changed. The Params() class manages the parameters for the optimization. Below is the type signature for the Params class and the default values.\n",
    "\n",
    "## Phases\n",
    "\n",
    "A field of the Params() class is 'phase_weights'. It is a list of lists of length 3. Each entry in the top level list represents an optimization phase. Each float in the second level lists represents the weights used in the optimization. THe first is the weight on the ci objective function, the second is the weight on the phys, kinem, cones, and cont part of the optimization, and the third is the weight on the task and accels function of the optimization. The dafault phase_weights = [[0.0, 0.0, 1.0],[0.0, 1.0, 1.0]]. By overriding this you can change both the number of phases and the weights.\n",
    "\n",
    "# set params\n",
    "import params as p\n",
    "paramClass = p.Params({}, num_moveable_objects)\n",
    "p.set_global_params(paramClass)"
   ]
  },
  {
   "cell_type": "code",
   "execution_count": null,
   "metadata": {},
   "outputs": [],
   "source": [
    "\"\"\"\n",
    "The Params class is used the represent the parameters of the CIO optimization\n",
    "\n",
    "...\n",
    "\n",
    "Attributes\n",
    "----------\n",
    "K : int\n",
    "    the number of keyframes used to represent the trajectory\n",
    "delT : float\n",
    "    the time step used to calculate derivates using finite differences\n",
    "delT_phase : float\n",
    "    the length of time a keyframe lasts\n",
    "mass : float\n",
    "    the mass (kg) of the manipulated object\n",
    "gravity : float\n",
    "    the magnitude of the gravity force\n",
    "mu : float\n",
    "    the coefficient of friction\n",
    "accel_lamb : float\n",
    "    the weight on the accel function in the optimization function\n",
    "cont_lamb : float\n",
    "    the weight on the cont function in the optimization function\n",
    "cone_lamb : float\n",
    "    the weight on the cone function in the optimization function\n",
    "phase_weights : list of PhaseWeights\n",
    "    the list of weights used during each optimization phase. the length of this list represents the number of optimization phases\n",
    "    "
   ]
  }
 ],
 "metadata": {
  "kernelspec": {
   "display_name": "Python 3",
   "language": "python",
   "name": "python3"
  },
  "language_info": {
   "codemirror_mode": {
    "name": "ipython",
    "version": 3
   },
   "file_extension": ".py",
   "mimetype": "text/x-python",
   "name": "python",
   "nbconvert_exporter": "python",
   "pygments_lexer": "ipython3",
   "version": "3.6.8"
  }
 },
 "nbformat": 4,
 "nbformat_minor": 2
}
